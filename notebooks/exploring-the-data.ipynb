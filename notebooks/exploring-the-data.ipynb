{
 "cells": [
  {
   "cell_type": "code",
   "execution_count": 8,
   "metadata": {},
   "outputs": [],
   "source": [
    "import os\n",
    "import numpy as np\n",
    "import pandas as pd\n",
    "\n",
    "from datasets import Dataset\n",
    "from sklearn.utils.class_weight import compute_class_weight\n",
    "\n",
    "# os.chdir(\"..\")"
   ]
  },
  {
   "cell_type": "markdown",
   "metadata": {},
   "source": [
    "# Sentimento"
   ]
  },
  {
   "cell_type": "code",
   "execution_count": 2,
   "metadata": {},
   "outputs": [],
   "source": [
    "df = pd.read_excel(\"data/sentimento/sentimento.xlsx\")"
   ]
  },
  {
   "cell_type": "code",
   "execution_count": 3,
   "metadata": {},
   "outputs": [
    {
     "data": {
      "text/html": [
       "<div>\n",
       "<style scoped>\n",
       "    .dataframe tbody tr th:only-of-type {\n",
       "        vertical-align: middle;\n",
       "    }\n",
       "\n",
       "    .dataframe tbody tr th {\n",
       "        vertical-align: top;\n",
       "    }\n",
       "\n",
       "    .dataframe thead th {\n",
       "        text-align: right;\n",
       "    }\n",
       "</style>\n",
       "<table border=\"1\" class=\"dataframe\">\n",
       "  <thead>\n",
       "    <tr style=\"text-align: right;\">\n",
       "      <th></th>\n",
       "      <th>conversation_id</th>\n",
       "      <th>text</th>\n",
       "      <th>Sentimento</th>\n",
       "    </tr>\n",
       "  </thead>\n",
       "  <tbody>\n",
       "    <tr>\n",
       "      <th>0</th>\n",
       "      <td>1612148855151132928</td>\n",
       "      <td>AGORA!  S O S !   S A L V E   O   N O S S O  \\...</td>\n",
       "      <td>NEGATIVO</td>\n",
       "    </tr>\n",
       "    <tr>\n",
       "      <th>1</th>\n",
       "      <td>1612285914679575040</td>\n",
       "      <td>Cara n é pq eu apoio o bolsonaro q eu fiz aqui...</td>\n",
       "      <td>NEGATIVO</td>\n",
       "    </tr>\n",
       "    <tr>\n",
       "      <th>2</th>\n",
       "      <td>1612183590917361920</td>\n",
       "      <td>@user Eu não sei se é tiro no pé o que estão f...</td>\n",
       "      <td>NEGATIVO</td>\n",
       "    </tr>\n",
       "    <tr>\n",
       "      <th>3</th>\n",
       "      <td>1612240722190639104</td>\n",
       "      <td>Imagina só q loucura o Fantástico q acordou c ...</td>\n",
       "      <td>NEGATIVO</td>\n",
       "    </tr>\n",
       "    <tr>\n",
       "      <th>4</th>\n",
       "      <td>1612151208046924032</td>\n",
       "      <td>@user @user deve ser porque uma parte grande d...</td>\n",
       "      <td>NEGATIVO</td>\n",
       "    </tr>\n",
       "    <tr>\n",
       "      <th>...</th>\n",
       "      <td>...</td>\n",
       "      <td>...</td>\n",
       "      <td>...</td>\n",
       "    </tr>\n",
       "    <tr>\n",
       "      <th>997</th>\n",
       "      <td>1611911246139346944</td>\n",
       "      <td>pois e parece que o ministerio da justica nao ...</td>\n",
       "      <td>NEUTRO</td>\n",
       "    </tr>\n",
       "    <tr>\n",
       "      <th>998</th>\n",
       "      <td>1612262768127906048</td>\n",
       "      <td>globo fantastico chama policiais de radicaliza...</td>\n",
       "      <td>NEUTRO</td>\n",
       "    </tr>\n",
       "    <tr>\n",
       "      <th>999</th>\n",
       "      <td>1612254925412569088</td>\n",
       "      <td>para aliviar a sua tl militantes do pt cantand...</td>\n",
       "      <td>NEUTRO</td>\n",
       "    </tr>\n",
       "    <tr>\n",
       "      <th>1000</th>\n",
       "      <td>1612186467685596928</td>\n",
       "      <td>governo do chile coloca forcas especiais de pr...</td>\n",
       "      <td>NEUTRO</td>\n",
       "    </tr>\n",
       "    <tr>\n",
       "      <th>1001</th>\n",
       "      <td>1612215109673180928</td>\n",
       "      <td>a presidente do supremo tribunal federal decla...</td>\n",
       "      <td>NEUTRO</td>\n",
       "    </tr>\n",
       "  </tbody>\n",
       "</table>\n",
       "<p>1002 rows × 3 columns</p>\n",
       "</div>"
      ],
      "text/plain": [
       "          conversation_id                                               text  \\\n",
       "0     1612148855151132928  AGORA!  S O S !   S A L V E   O   N O S S O  \\...   \n",
       "1     1612285914679575040  Cara n é pq eu apoio o bolsonaro q eu fiz aqui...   \n",
       "2     1612183590917361920  @user Eu não sei se é tiro no pé o que estão f...   \n",
       "3     1612240722190639104  Imagina só q loucura o Fantástico q acordou c ...   \n",
       "4     1612151208046924032  @user @user deve ser porque uma parte grande d...   \n",
       "...                   ...                                                ...   \n",
       "997   1611911246139346944  pois e parece que o ministerio da justica nao ...   \n",
       "998   1612262768127906048  globo fantastico chama policiais de radicaliza...   \n",
       "999   1612254925412569088  para aliviar a sua tl militantes do pt cantand...   \n",
       "1000  1612186467685596928  governo do chile coloca forcas especiais de pr...   \n",
       "1001  1612215109673180928  a presidente do supremo tribunal federal decla...   \n",
       "\n",
       "     Sentimento  \n",
       "0      NEGATIVO  \n",
       "1      NEGATIVO  \n",
       "2      NEGATIVO  \n",
       "3      NEGATIVO  \n",
       "4      NEGATIVO  \n",
       "...         ...  \n",
       "997      NEUTRO  \n",
       "998      NEUTRO  \n",
       "999      NEUTRO  \n",
       "1000     NEUTRO  \n",
       "1001     NEUTRO  \n",
       "\n",
       "[1002 rows x 3 columns]"
      ]
     },
     "execution_count": 3,
     "metadata": {},
     "output_type": "execute_result"
    }
   ],
   "source": [
    "df"
   ]
  },
  {
   "cell_type": "code",
   "execution_count": 4,
   "metadata": {},
   "outputs": [
    {
     "data": {
      "text/plain": [
       "np.int64(82)"
      ]
     },
     "execution_count": 4,
     "metadata": {},
     "output_type": "execute_result"
    }
   ],
   "source": [
    "x = df[\"text\"].str.split().map(lambda x: len(x))\n",
    "max_words_in_tweet = x.max()\n",
    "\n",
    "max_words_in_tweet"
   ]
  },
  {
   "cell_type": "code",
   "execution_count": 5,
   "metadata": {},
   "outputs": [
    {
     "data": {
      "text/plain": [
       "array([1., 1., 1.])"
      ]
     },
     "execution_count": 5,
     "metadata": {},
     "output_type": "execute_result"
    }
   ],
   "source": [
    "compute_class_weight(class_weight=\"balanced\", classes=np.unique(df[\"Sentimento\"]), y=df[\"Sentimento\"])"
   ]
  },
  {
   "cell_type": "code",
   "execution_count": 9,
   "metadata": {},
   "outputs": [],
   "source": [
    "ds = Dataset.from_pandas(df)"
   ]
  },
  {
   "cell_type": "code",
   "execution_count": 10,
   "metadata": {},
   "outputs": [
    {
     "data": {
      "text/plain": [
       "Dataset({\n",
       "    features: ['conversation_id', 'text', 'Sentimento'],\n",
       "    num_rows: 1002\n",
       "})"
      ]
     },
     "execution_count": 10,
     "metadata": {},
     "output_type": "execute_result"
    }
   ],
   "source": [
    "ds"
   ]
  },
  {
   "cell_type": "code",
   "execution_count": null,
   "metadata": {},
   "outputs": [],
   "source": [
    "ds"
   ]
  }
 ],
 "metadata": {
  "kernelspec": {
   "display_name": ".venv",
   "language": "python",
   "name": "python3"
  },
  "language_info": {
   "codemirror_mode": {
    "name": "ipython",
    "version": 3
   },
   "file_extension": ".py",
   "mimetype": "text/x-python",
   "name": "python",
   "nbconvert_exporter": "python",
   "pygments_lexer": "ipython3",
   "version": "3.10.12"
  }
 },
 "nbformat": 4,
 "nbformat_minor": 2
}
